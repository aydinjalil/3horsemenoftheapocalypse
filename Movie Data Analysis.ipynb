{
 "cells": [
  {
   "cell_type": "markdown",
   "metadata": {},
   "source": [
    "# Case Study: Movie Data Analysis\n",
    "\n",
    "This notebook uses a dataset from the MovieLens website.\n",
    "\n",
    "* Data SourceL MovieLens web site (filename: ml-20m.zip)\n",
    "* Location https://grouplens.org/datasets/movielens\n",
    "\n",
    "\n",
    "First Let's explore the folder to see what files we have in the dataset"
   ]
  },
  {
   "cell_type": "code",
   "execution_count": 1,
   "metadata": {},
   "outputs": [
    {
     "name": "stdout",
     "output_type": "stream",
     "text": [
      "total 855092\n",
      "drwxr-xr-x 1 aydin 197609         0 Mar  5 23:15 .\n",
      "drwxr-xr-x 1 aydin 197609         0 Mar  8 00:07 ..\n",
      "-rw-r--r-- 1 aydin 197609 323544381 Jan  3 23:41 genome-scores.csv\n",
      "-rw-r--r-- 1 aydin 197609     18103 Jan  3 23:41 genome-tags.csv\n",
      "-rw-r--r-- 1 aydin 197609    570090 Jan  3 23:41 links.csv\n",
      "-rw-r--r-- 1 aydin 197609   1397542 Jan  3 23:41 movies.csv\n",
      "-rw-r--r-- 1 aydin 197609 533444411 Jan  3 23:41 ratings.csv\n",
      "-rw-r--r-- 1 aydin 197609     10261 Jan  3 23:41 README.txt\n",
      "-rw-r--r-- 1 aydin 197609  16603996 Jan  3 23:41 tags.csv\n"
     ]
    }
   ],
   "source": [
    "!ls -la ./movielens"
   ]
  },
  {
   "cell_type": "markdown",
   "metadata": {},
   "source": [
    "# Use Pandas to read data\n",
    "\n",
    "In this notebook, we will be using three CSV files:\n",
    "\n",
    "* ratings.csv: userId, movieId, rating, timestamp\n",
    "* tags.csv: userId, movieId, tag, timestamp\n",
    "* movies.csv: movieId, title, genres"
   ]
  },
  {
   "cell_type": "code",
   "execution_count": 2,
   "metadata": {},
   "outputs": [],
   "source": [
    "import pandas as pd"
   ]
  },
  {
   "cell_type": "code",
   "execution_count": 3,
   "metadata": {},
   "outputs": [],
   "source": [
    "movie_data = pd.read_csv('./movielens/movies.csv', sep=',')"
   ]
  },
  {
   "cell_type": "code",
   "execution_count": 4,
   "metadata": {},
   "outputs": [
    {
     "data": {
      "text/html": [
       "<div>\n",
       "<style scoped>\n",
       "    .dataframe tbody tr th:only-of-type {\n",
       "        vertical-align: middle;\n",
       "    }\n",
       "\n",
       "    .dataframe tbody tr th {\n",
       "        vertical-align: top;\n",
       "    }\n",
       "\n",
       "    .dataframe thead th {\n",
       "        text-align: right;\n",
       "    }\n",
       "</style>\n",
       "<table border=\"1\" class=\"dataframe\">\n",
       "  <thead>\n",
       "    <tr style=\"text-align: right;\">\n",
       "      <th></th>\n",
       "      <th>movieId</th>\n",
       "      <th>title</th>\n",
       "      <th>genres</th>\n",
       "    </tr>\n",
       "  </thead>\n",
       "  <tbody>\n",
       "    <tr>\n",
       "      <th>0</th>\n",
       "      <td>1</td>\n",
       "      <td>Toy Story (1995)</td>\n",
       "      <td>Adventure|Animation|Children|Comedy|Fantasy</td>\n",
       "    </tr>\n",
       "    <tr>\n",
       "      <th>1</th>\n",
       "      <td>2</td>\n",
       "      <td>Jumanji (1995)</td>\n",
       "      <td>Adventure|Children|Fantasy</td>\n",
       "    </tr>\n",
       "    <tr>\n",
       "      <th>2</th>\n",
       "      <td>3</td>\n",
       "      <td>Grumpier Old Men (1995)</td>\n",
       "      <td>Comedy|Romance</td>\n",
       "    </tr>\n",
       "    <tr>\n",
       "      <th>3</th>\n",
       "      <td>4</td>\n",
       "      <td>Waiting to Exhale (1995)</td>\n",
       "      <td>Comedy|Drama|Romance</td>\n",
       "    </tr>\n",
       "    <tr>\n",
       "      <th>4</th>\n",
       "      <td>5</td>\n",
       "      <td>Father of the Bride Part II (1995)</td>\n",
       "      <td>Comedy</td>\n",
       "    </tr>\n",
       "  </tbody>\n",
       "</table>\n",
       "</div>"
      ],
      "text/plain": [
       "   movieId                               title  \\\n",
       "0        1                    Toy Story (1995)   \n",
       "1        2                      Jumanji (1995)   \n",
       "2        3             Grumpier Old Men (1995)   \n",
       "3        4            Waiting to Exhale (1995)   \n",
       "4        5  Father of the Bride Part II (1995)   \n",
       "\n",
       "                                        genres  \n",
       "0  Adventure|Animation|Children|Comedy|Fantasy  \n",
       "1                   Adventure|Children|Fantasy  \n",
       "2                               Comedy|Romance  \n",
       "3                         Comedy|Drama|Romance  \n",
       "4                                       Comedy  "
      ]
     },
     "execution_count": 4,
     "metadata": {},
     "output_type": "execute_result"
    }
   ],
   "source": [
    "movie_data.head()"
   ]
  },
  {
   "cell_type": "code",
   "execution_count": 5,
   "metadata": {},
   "outputs": [
    {
     "data": {
      "text/html": [
       "<div>\n",
       "<style scoped>\n",
       "    .dataframe tbody tr th:only-of-type {\n",
       "        vertical-align: middle;\n",
       "    }\n",
       "\n",
       "    .dataframe tbody tr th {\n",
       "        vertical-align: top;\n",
       "    }\n",
       "\n",
       "    .dataframe thead th {\n",
       "        text-align: right;\n",
       "    }\n",
       "</style>\n",
       "<table border=\"1\" class=\"dataframe\">\n",
       "  <thead>\n",
       "    <tr style=\"text-align: right;\">\n",
       "      <th></th>\n",
       "      <th>userId</th>\n",
       "      <th>movieId</th>\n",
       "      <th>tag</th>\n",
       "      <th>timestamp</th>\n",
       "    </tr>\n",
       "  </thead>\n",
       "  <tbody>\n",
       "    <tr>\n",
       "      <th>0</th>\n",
       "      <td>18</td>\n",
       "      <td>4141</td>\n",
       "      <td>Mark Waters</td>\n",
       "      <td>1240597180</td>\n",
       "    </tr>\n",
       "    <tr>\n",
       "      <th>1</th>\n",
       "      <td>65</td>\n",
       "      <td>208</td>\n",
       "      <td>dark hero</td>\n",
       "      <td>1368150078</td>\n",
       "    </tr>\n",
       "    <tr>\n",
       "      <th>2</th>\n",
       "      <td>65</td>\n",
       "      <td>353</td>\n",
       "      <td>dark hero</td>\n",
       "      <td>1368150079</td>\n",
       "    </tr>\n",
       "    <tr>\n",
       "      <th>3</th>\n",
       "      <td>65</td>\n",
       "      <td>521</td>\n",
       "      <td>noir thriller</td>\n",
       "      <td>1368149983</td>\n",
       "    </tr>\n",
       "    <tr>\n",
       "      <th>4</th>\n",
       "      <td>65</td>\n",
       "      <td>592</td>\n",
       "      <td>dark hero</td>\n",
       "      <td>1368150078</td>\n",
       "    </tr>\n",
       "  </tbody>\n",
       "</table>\n",
       "</div>"
      ],
      "text/plain": [
       "   userId  movieId            tag   timestamp\n",
       "0      18     4141    Mark Waters  1240597180\n",
       "1      65      208      dark hero  1368150078\n",
       "2      65      353      dark hero  1368150079\n",
       "3      65      521  noir thriller  1368149983\n",
       "4      65      592      dark hero  1368150078"
      ]
     },
     "execution_count": 5,
     "metadata": {},
     "output_type": "execute_result"
    }
   ],
   "source": [
    "#Timestamps represent seconds since midnight Coordinated Universal Time (UTC)\n",
    "tags = pd.read_csv('./movielens/tags.csv', sep=\",\")\n",
    "tags.head()"
   ]
  },
  {
   "cell_type": "code",
   "execution_count": 6,
   "metadata": {},
   "outputs": [
    {
     "data": {
      "text/html": [
       "<div>\n",
       "<style scoped>\n",
       "    .dataframe tbody tr th:only-of-type {\n",
       "        vertical-align: middle;\n",
       "    }\n",
       "\n",
       "    .dataframe tbody tr th {\n",
       "        vertical-align: top;\n",
       "    }\n",
       "\n",
       "    .dataframe thead th {\n",
       "        text-align: right;\n",
       "    }\n",
       "</style>\n",
       "<table border=\"1\" class=\"dataframe\">\n",
       "  <thead>\n",
       "    <tr style=\"text-align: right;\">\n",
       "      <th></th>\n",
       "      <th>userId</th>\n",
       "      <th>movieId</th>\n",
       "      <th>rating</th>\n",
       "      <th>timestamp</th>\n",
       "    </tr>\n",
       "  </thead>\n",
       "  <tbody>\n",
       "    <tr>\n",
       "      <th>0</th>\n",
       "      <td>1</td>\n",
       "      <td>2</td>\n",
       "      <td>3.5</td>\n",
       "      <td>1112486027</td>\n",
       "    </tr>\n",
       "    <tr>\n",
       "      <th>1</th>\n",
       "      <td>1</td>\n",
       "      <td>29</td>\n",
       "      <td>3.5</td>\n",
       "      <td>1112484676</td>\n",
       "    </tr>\n",
       "    <tr>\n",
       "      <th>2</th>\n",
       "      <td>1</td>\n",
       "      <td>32</td>\n",
       "      <td>3.5</td>\n",
       "      <td>1112484819</td>\n",
       "    </tr>\n",
       "    <tr>\n",
       "      <th>3</th>\n",
       "      <td>1</td>\n",
       "      <td>47</td>\n",
       "      <td>3.5</td>\n",
       "      <td>1112484727</td>\n",
       "    </tr>\n",
       "    <tr>\n",
       "      <th>4</th>\n",
       "      <td>1</td>\n",
       "      <td>50</td>\n",
       "      <td>3.5</td>\n",
       "      <td>1112484580</td>\n",
       "    </tr>\n",
       "  </tbody>\n",
       "</table>\n",
       "</div>"
      ],
      "text/plain": [
       "   userId  movieId  rating   timestamp\n",
       "0       1        2     3.5  1112486027\n",
       "1       1       29     3.5  1112484676\n",
       "2       1       32     3.5  1112484819\n",
       "3       1       47     3.5  1112484727\n",
       "4       1       50     3.5  1112484580"
      ]
     },
     "execution_count": 6,
     "metadata": {},
     "output_type": "execute_result"
    }
   ],
   "source": [
    "ratings = pd.read_csv('./movielens/ratings.csv', sep=\",\")\n",
    "ratings.head()"
   ]
  },
  {
   "cell_type": "markdown",
   "metadata": {},
   "source": [
    "### We do not need timestamp column right now but we will get back to it later on."
   ]
  },
  {
   "cell_type": "code",
   "execution_count": 7,
   "metadata": {},
   "outputs": [],
   "source": [
    "del ratings['timestamp']\n",
    "del tags['timestamp']"
   ]
  },
  {
   "cell_type": "markdown",
   "metadata": {},
   "source": [
    "# Descriptive Statistics"
   ]
  },
  {
   "cell_type": "code",
   "execution_count": 8,
   "metadata": {},
   "outputs": [
    {
     "data": {
      "text/plain": [
       "count    2.000026e+07\n",
       "mean     3.525529e+00\n",
       "std      1.051989e+00\n",
       "min      5.000000e-01\n",
       "25%      3.000000e+00\n",
       "50%      3.500000e+00\n",
       "75%      4.000000e+00\n",
       "max      5.000000e+00\n",
       "Name: rating, dtype: float64"
      ]
     },
     "execution_count": 8,
     "metadata": {},
     "output_type": "execute_result"
    }
   ],
   "source": [
    "ratings['rating'].describe()"
   ]
  },
  {
   "cell_type": "code",
   "execution_count": 9,
   "metadata": {},
   "outputs": [
    {
     "data": {
      "text/plain": [
       "3.5255285642993797"
      ]
     },
     "execution_count": 9,
     "metadata": {},
     "output_type": "execute_result"
    }
   ],
   "source": [
    "ratings['rating'].mean()"
   ]
  },
  {
   "cell_type": "code",
   "execution_count": 10,
   "metadata": {},
   "outputs": [
    {
     "data": {
      "text/plain": [
       "(0.5, 5.0, 1.0519889192942424)"
      ]
     },
     "execution_count": 10,
     "metadata": {},
     "output_type": "execute_result"
    }
   ],
   "source": [
    "ratings['rating'].min(), ratings['rating'].max(), ratings['rating'].std()"
   ]
  },
  {
   "cell_type": "code",
   "execution_count": 11,
   "metadata": {},
   "outputs": [
    {
     "data": {
      "text/plain": [
       "0    4.0\n",
       "dtype: float64"
      ]
     },
     "execution_count": 11,
     "metadata": {},
     "output_type": "execute_result"
    }
   ],
   "source": [
    "ratings['rating'].mode()"
   ]
  },
  {
   "cell_type": "markdown",
   "metadata": {},
   "source": [
    "## Quick sanity check\n",
    "\n",
    "Here we are verifying adequacy of ratings by checking if there are any ratings greater than 5 or less than 0. It is unneccessary since we know min and max ratings values but this is an alternative way."
   ]
  },
  {
   "cell_type": "code",
   "execution_count": 12,
   "metadata": {},
   "outputs": [],
   "source": [
    "filter_1 = ratings['rating'] > 5"
   ]
  },
  {
   "cell_type": "code",
   "execution_count": 13,
   "metadata": {},
   "outputs": [
    {
     "data": {
      "text/plain": [
       "False"
      ]
     },
     "execution_count": 13,
     "metadata": {},
     "output_type": "execute_result"
    }
   ],
   "source": [
    "filter_1.any()"
   ]
  },
  {
   "cell_type": "code",
   "execution_count": 14,
   "metadata": {},
   "outputs": [],
   "source": [
    "filter_2 = ratings['rating'] > 0"
   ]
  },
  {
   "cell_type": "code",
   "execution_count": 15,
   "metadata": {},
   "outputs": [
    {
     "data": {
      "text/plain": [
       "True"
      ]
     },
     "execution_count": 15,
     "metadata": {},
     "output_type": "execute_result"
    }
   ],
   "source": [
    "filter_2.all()"
   ]
  },
  {
   "cell_type": "markdown",
   "metadata": {},
   "source": [
    "# Data Cleaning: Handling missing data"
   ]
  },
  {
   "cell_type": "code",
   "execution_count": 16,
   "metadata": {},
   "outputs": [
    {
     "data": {
      "text/plain": [
       "(27278, 3)"
      ]
     },
     "execution_count": 16,
     "metadata": {},
     "output_type": "execute_result"
    }
   ],
   "source": [
    "movie_data.shape"
   ]
  },
  {
   "cell_type": "code",
   "execution_count": 17,
   "metadata": {},
   "outputs": [
    {
     "data": {
      "text/plain": [
       "movieId    False\n",
       "title      False\n",
       "genres     False\n",
       "dtype: bool"
      ]
     },
     "execution_count": 17,
     "metadata": {},
     "output_type": "execute_result"
    }
   ],
   "source": [
    "movie_data.isnull().any()"
   ]
  },
  {
   "cell_type": "code",
   "execution_count": 18,
   "metadata": {},
   "outputs": [
    {
     "data": {
      "text/plain": [
       "(20000263, 3)"
      ]
     },
     "execution_count": 18,
     "metadata": {},
     "output_type": "execute_result"
    }
   ],
   "source": [
    "ratings.shape"
   ]
  },
  {
   "cell_type": "code",
   "execution_count": 19,
   "metadata": {},
   "outputs": [
    {
     "data": {
      "text/plain": [
       "userId     False\n",
       "movieId    False\n",
       "rating     False\n",
       "dtype: bool"
      ]
     },
     "execution_count": 19,
     "metadata": {},
     "output_type": "execute_result"
    }
   ],
   "source": [
    "ratings.isnull().any()"
   ]
  },
  {
   "cell_type": "code",
   "execution_count": 20,
   "metadata": {},
   "outputs": [
    {
     "data": {
      "text/plain": [
       "(465564, 3)"
      ]
     },
     "execution_count": 20,
     "metadata": {},
     "output_type": "execute_result"
    }
   ],
   "source": [
    "tags.shape"
   ]
  },
  {
   "cell_type": "code",
   "execution_count": 21,
   "metadata": {},
   "outputs": [
    {
     "data": {
      "text/plain": [
       "userId     False\n",
       "movieId    False\n",
       "tag         True\n",
       "dtype: bool"
      ]
     },
     "execution_count": 21,
     "metadata": {},
     "output_type": "execute_result"
    }
   ],
   "source": [
    "tags.isnull().any()"
   ]
  },
  {
   "cell_type": "code",
   "execution_count": 22,
   "metadata": {},
   "outputs": [
    {
     "data": {
      "text/plain": [
       "0         False\n",
       "1         False\n",
       "2         False\n",
       "3         False\n",
       "4         False\n",
       "          ...  \n",
       "465559    False\n",
       "465560    False\n",
       "465561    False\n",
       "465562    False\n",
       "465563    False\n",
       "Name: tag, Length: 465564, dtype: bool"
      ]
     },
     "execution_count": 22,
     "metadata": {},
     "output_type": "execute_result"
    }
   ],
   "source": [
    "null_ = tags['tag'].isnull()\n",
    "null_"
   ]
  },
  {
   "cell_type": "code",
   "execution_count": 23,
   "metadata": {},
   "outputs": [
    {
     "data": {
      "text/html": [
       "<div>\n",
       "<style scoped>\n",
       "    .dataframe tbody tr th:only-of-type {\n",
       "        vertical-align: middle;\n",
       "    }\n",
       "\n",
       "    .dataframe tbody tr th {\n",
       "        vertical-align: top;\n",
       "    }\n",
       "\n",
       "    .dataframe thead th {\n",
       "        text-align: right;\n",
       "    }\n",
       "</style>\n",
       "<table border=\"1\" class=\"dataframe\">\n",
       "  <thead>\n",
       "    <tr style=\"text-align: right;\">\n",
       "      <th></th>\n",
       "      <th>userId</th>\n",
       "      <th>movieId</th>\n",
       "      <th>tag</th>\n",
       "    </tr>\n",
       "  </thead>\n",
       "  <tbody>\n",
       "    <tr>\n",
       "      <th>373276</th>\n",
       "      <td>116460</td>\n",
       "      <td>123</td>\n",
       "      <td>NaN</td>\n",
       "    </tr>\n",
       "    <tr>\n",
       "      <th>373277</th>\n",
       "      <td>116460</td>\n",
       "      <td>346</td>\n",
       "      <td>NaN</td>\n",
       "    </tr>\n",
       "    <tr>\n",
       "      <th>373281</th>\n",
       "      <td>116460</td>\n",
       "      <td>1184</td>\n",
       "      <td>NaN</td>\n",
       "    </tr>\n",
       "    <tr>\n",
       "      <th>373288</th>\n",
       "      <td>116460</td>\n",
       "      <td>1785</td>\n",
       "      <td>NaN</td>\n",
       "    </tr>\n",
       "    <tr>\n",
       "      <th>373289</th>\n",
       "      <td>116460</td>\n",
       "      <td>2194</td>\n",
       "      <td>NaN</td>\n",
       "    </tr>\n",
       "    <tr>\n",
       "      <th>373291</th>\n",
       "      <td>116460</td>\n",
       "      <td>2691</td>\n",
       "      <td>NaN</td>\n",
       "    </tr>\n",
       "    <tr>\n",
       "      <th>373299</th>\n",
       "      <td>116460</td>\n",
       "      <td>4103</td>\n",
       "      <td>NaN</td>\n",
       "    </tr>\n",
       "    <tr>\n",
       "      <th>373301</th>\n",
       "      <td>116460</td>\n",
       "      <td>4473</td>\n",
       "      <td>NaN</td>\n",
       "    </tr>\n",
       "    <tr>\n",
       "      <th>373303</th>\n",
       "      <td>116460</td>\n",
       "      <td>4616</td>\n",
       "      <td>NaN</td>\n",
       "    </tr>\n",
       "    <tr>\n",
       "      <th>373319</th>\n",
       "      <td>116460</td>\n",
       "      <td>7624</td>\n",
       "      <td>NaN</td>\n",
       "    </tr>\n",
       "    <tr>\n",
       "      <th>373325</th>\n",
       "      <td>116460</td>\n",
       "      <td>8898</td>\n",
       "      <td>NaN</td>\n",
       "    </tr>\n",
       "    <tr>\n",
       "      <th>373332</th>\n",
       "      <td>116460</td>\n",
       "      <td>32460</td>\n",
       "      <td>NaN</td>\n",
       "    </tr>\n",
       "    <tr>\n",
       "      <th>373334</th>\n",
       "      <td>116460</td>\n",
       "      <td>33826</td>\n",
       "      <td>NaN</td>\n",
       "    </tr>\n",
       "    <tr>\n",
       "      <th>373339</th>\n",
       "      <td>116460</td>\n",
       "      <td>36537</td>\n",
       "      <td>NaN</td>\n",
       "    </tr>\n",
       "    <tr>\n",
       "      <th>373340</th>\n",
       "      <td>116460</td>\n",
       "      <td>55805</td>\n",
       "      <td>NaN</td>\n",
       "    </tr>\n",
       "    <tr>\n",
       "      <th>454615</th>\n",
       "      <td>133634</td>\n",
       "      <td>33826</td>\n",
       "      <td>NaN</td>\n",
       "    </tr>\n",
       "  </tbody>\n",
       "</table>\n",
       "</div>"
      ],
      "text/plain": [
       "        userId  movieId  tag\n",
       "373276  116460      123  NaN\n",
       "373277  116460      346  NaN\n",
       "373281  116460     1184  NaN\n",
       "373288  116460     1785  NaN\n",
       "373289  116460     2194  NaN\n",
       "373291  116460     2691  NaN\n",
       "373299  116460     4103  NaN\n",
       "373301  116460     4473  NaN\n",
       "373303  116460     4616  NaN\n",
       "373319  116460     7624  NaN\n",
       "373325  116460     8898  NaN\n",
       "373332  116460    32460  NaN\n",
       "373334  116460    33826  NaN\n",
       "373339  116460    36537  NaN\n",
       "373340  116460    55805  NaN\n",
       "454615  133634    33826  NaN"
      ]
     },
     "execution_count": 23,
     "metadata": {},
     "output_type": "execute_result"
    }
   ],
   "source": [
    "null_tags = tags[null_]\n",
    "null_tags"
   ]
  },
  {
   "cell_type": "code",
   "execution_count": 24,
   "metadata": {},
   "outputs": [
    {
     "data": {
      "text/html": [
       "<div>\n",
       "<style scoped>\n",
       "    .dataframe tbody tr th:only-of-type {\n",
       "        vertical-align: middle;\n",
       "    }\n",
       "\n",
       "    .dataframe tbody tr th {\n",
       "        vertical-align: top;\n",
       "    }\n",
       "\n",
       "    .dataframe thead th {\n",
       "        text-align: right;\n",
       "    }\n",
       "</style>\n",
       "<table border=\"1\" class=\"dataframe\">\n",
       "  <thead>\n",
       "    <tr style=\"text-align: right;\">\n",
       "      <th></th>\n",
       "      <th>movieId</th>\n",
       "      <th>title</th>\n",
       "      <th>genres</th>\n",
       "    </tr>\n",
       "    <tr>\n",
       "      <th>movieId</th>\n",
       "      <th></th>\n",
       "      <th></th>\n",
       "      <th></th>\n",
       "    </tr>\n",
       "  </thead>\n",
       "  <tbody>\n",
       "    <tr>\n",
       "      <th>123</th>\n",
       "      <td>125.0</td>\n",
       "      <td>Flirting With Disaster (1996)</td>\n",
       "      <td>Comedy</td>\n",
       "    </tr>\n",
       "    <tr>\n",
       "      <th>346</th>\n",
       "      <td>350.0</td>\n",
       "      <td>Client, The (1994)</td>\n",
       "      <td>Drama|Mystery|Thriller</td>\n",
       "    </tr>\n",
       "    <tr>\n",
       "      <th>1184</th>\n",
       "      <td>1210.0</td>\n",
       "      <td>Star Wars: Episode VI - Return of the Jedi (1983)</td>\n",
       "      <td>Action|Adventure|Sci-Fi</td>\n",
       "    </tr>\n",
       "    <tr>\n",
       "      <th>1785</th>\n",
       "      <td>1869.0</td>\n",
       "      <td>Black Dog (1998)</td>\n",
       "      <td>Action|Thriller</td>\n",
       "    </tr>\n",
       "    <tr>\n",
       "      <th>2194</th>\n",
       "      <td>2279.0</td>\n",
       "      <td>Urban Legend (1998)</td>\n",
       "      <td>Horror|Thriller</td>\n",
       "    </tr>\n",
       "    <tr>\n",
       "      <th>2691</th>\n",
       "      <td>2777.0</td>\n",
       "      <td>Cobra (1925)</td>\n",
       "      <td>Drama</td>\n",
       "    </tr>\n",
       "    <tr>\n",
       "      <th>4103</th>\n",
       "      <td>4197.0</td>\n",
       "      <td>Real Life (1979)</td>\n",
       "      <td>Comedy</td>\n",
       "    </tr>\n",
       "    <tr>\n",
       "      <th>4473</th>\n",
       "      <td>4568.0</td>\n",
       "      <td>Best of the Best (1989)</td>\n",
       "      <td>Action</td>\n",
       "    </tr>\n",
       "    <tr>\n",
       "      <th>4616</th>\n",
       "      <td>4711.0</td>\n",
       "      <td>Theremin: An Electronic Odyssey (1993)</td>\n",
       "      <td>Documentary</td>\n",
       "    </tr>\n",
       "    <tr>\n",
       "      <th>7624</th>\n",
       "      <td>8024.0</td>\n",
       "      <td>Thing Called Love, The (1993)</td>\n",
       "      <td>Comedy|Drama|Romance</td>\n",
       "    </tr>\n",
       "    <tr>\n",
       "      <th>8898</th>\n",
       "      <td>26523.0</td>\n",
       "      <td>Silent Night, Deadly Night (1984)</td>\n",
       "      <td>Horror|Thriller</td>\n",
       "    </tr>\n",
       "    <tr>\n",
       "      <th>32460</th>\n",
       "      <td>NaN</td>\n",
       "      <td>NaN</td>\n",
       "      <td>NaN</td>\n",
       "    </tr>\n",
       "    <tr>\n",
       "      <th>33826</th>\n",
       "      <td>NaN</td>\n",
       "      <td>NaN</td>\n",
       "      <td>NaN</td>\n",
       "    </tr>\n",
       "    <tr>\n",
       "      <th>36537</th>\n",
       "      <td>NaN</td>\n",
       "      <td>NaN</td>\n",
       "      <td>NaN</td>\n",
       "    </tr>\n",
       "    <tr>\n",
       "      <th>55805</th>\n",
       "      <td>NaN</td>\n",
       "      <td>NaN</td>\n",
       "      <td>NaN</td>\n",
       "    </tr>\n",
       "    <tr>\n",
       "      <th>33826</th>\n",
       "      <td>NaN</td>\n",
       "      <td>NaN</td>\n",
       "      <td>NaN</td>\n",
       "    </tr>\n",
       "  </tbody>\n",
       "</table>\n",
       "</div>"
      ],
      "text/plain": [
       "         movieId                                              title  \\\n",
       "movieId                                                               \n",
       "123        125.0                      Flirting With Disaster (1996)   \n",
       "346        350.0                                 Client, The (1994)   \n",
       "1184      1210.0  Star Wars: Episode VI - Return of the Jedi (1983)   \n",
       "1785      1869.0                                   Black Dog (1998)   \n",
       "2194      2279.0                                Urban Legend (1998)   \n",
       "2691      2777.0                                       Cobra (1925)   \n",
       "4103      4197.0                                   Real Life (1979)   \n",
       "4473      4568.0                            Best of the Best (1989)   \n",
       "4616      4711.0             Theremin: An Electronic Odyssey (1993)   \n",
       "7624      8024.0                      Thing Called Love, The (1993)   \n",
       "8898     26523.0                  Silent Night, Deadly Night (1984)   \n",
       "32460        NaN                                                NaN   \n",
       "33826        NaN                                                NaN   \n",
       "36537        NaN                                                NaN   \n",
       "55805        NaN                                                NaN   \n",
       "33826        NaN                                                NaN   \n",
       "\n",
       "                          genres  \n",
       "movieId                           \n",
       "123                       Comedy  \n",
       "346       Drama|Mystery|Thriller  \n",
       "1184     Action|Adventure|Sci-Fi  \n",
       "1785             Action|Thriller  \n",
       "2194             Horror|Thriller  \n",
       "2691                       Drama  \n",
       "4103                      Comedy  \n",
       "4473                      Action  \n",
       "4616                 Documentary  \n",
       "7624        Comedy|Drama|Romance  \n",
       "8898             Horror|Thriller  \n",
       "32460                        NaN  \n",
       "33826                        NaN  \n",
       "36537                        NaN  \n",
       "55805                        NaN  \n",
       "33826                        NaN  "
      ]
     },
     "execution_count": 24,
     "metadata": {},
     "output_type": "execute_result"
    }
   ],
   "source": [
    "null_tag_movies = null_tags['movieId']\n",
    "pd.DataFrame(movie_data, index=null_tag_movies)"
   ]
  },
  {
   "cell_type": "markdown",
   "metadata": {},
   "source": [
    "### Since we have null values for tags, let's drop them to have a cleaner dataset"
   ]
  },
  {
   "cell_type": "code",
   "execution_count": 25,
   "metadata": {},
   "outputs": [],
   "source": [
    "tags = tags.dropna()"
   ]
  },
  {
   "cell_type": "code",
   "execution_count": 26,
   "metadata": {},
   "outputs": [
    {
     "data": {
      "text/plain": [
       "userId     False\n",
       "movieId    False\n",
       "tag        False\n",
       "dtype: bool"
      ]
     },
     "execution_count": 26,
     "metadata": {},
     "output_type": "execute_result"
    }
   ],
   "source": [
    "tags.isnull().any()"
   ]
  },
  {
   "cell_type": "code",
   "execution_count": 27,
   "metadata": {},
   "outputs": [
    {
     "data": {
      "text/plain": [
       "(465548, 3)"
      ]
     },
     "execution_count": 27,
     "metadata": {},
     "output_type": "execute_result"
    }
   ],
   "source": [
    "tags.shape"
   ]
  },
  {
   "cell_type": "markdown",
   "metadata": {},
   "source": [
    "### Extract year from title e.g (1995)"
   ]
  },
  {
   "cell_type": "code",
   "execution_count": 28,
   "metadata": {},
   "outputs": [],
   "source": [
    "movie_data['year'] = movie_data['title'].str.extract(\".*\\((.*)\\).*\", expand=True)"
   ]
  },
  {
   "cell_type": "code",
   "execution_count": 29,
   "metadata": {},
   "outputs": [
    {
     "data": {
      "text/html": [
       "<div>\n",
       "<style scoped>\n",
       "    .dataframe tbody tr th:only-of-type {\n",
       "        vertical-align: middle;\n",
       "    }\n",
       "\n",
       "    .dataframe tbody tr th {\n",
       "        vertical-align: top;\n",
       "    }\n",
       "\n",
       "    .dataframe thead th {\n",
       "        text-align: right;\n",
       "    }\n",
       "</style>\n",
       "<table border=\"1\" class=\"dataframe\">\n",
       "  <thead>\n",
       "    <tr style=\"text-align: right;\">\n",
       "      <th></th>\n",
       "      <th>movieId</th>\n",
       "      <th>title</th>\n",
       "      <th>genres</th>\n",
       "      <th>year</th>\n",
       "    </tr>\n",
       "  </thead>\n",
       "  <tbody>\n",
       "    <tr>\n",
       "      <th>27273</th>\n",
       "      <td>131254</td>\n",
       "      <td>Kein Bund für's Leben (2007)</td>\n",
       "      <td>Comedy</td>\n",
       "      <td>2007</td>\n",
       "    </tr>\n",
       "    <tr>\n",
       "      <th>27274</th>\n",
       "      <td>131256</td>\n",
       "      <td>Feuer, Eis &amp; Dosenbier (2002)</td>\n",
       "      <td>Comedy</td>\n",
       "      <td>2002</td>\n",
       "    </tr>\n",
       "    <tr>\n",
       "      <th>27275</th>\n",
       "      <td>131258</td>\n",
       "      <td>The Pirates (2014)</td>\n",
       "      <td>Adventure</td>\n",
       "      <td>2014</td>\n",
       "    </tr>\n",
       "    <tr>\n",
       "      <th>27276</th>\n",
       "      <td>131260</td>\n",
       "      <td>Rentun Ruusu (2001)</td>\n",
       "      <td>(no genres listed)</td>\n",
       "      <td>2001</td>\n",
       "    </tr>\n",
       "    <tr>\n",
       "      <th>27277</th>\n",
       "      <td>131262</td>\n",
       "      <td>Innocence (2014)</td>\n",
       "      <td>Adventure|Fantasy|Horror</td>\n",
       "      <td>2014</td>\n",
       "    </tr>\n",
       "  </tbody>\n",
       "</table>\n",
       "</div>"
      ],
      "text/plain": [
       "       movieId                          title                    genres  year\n",
       "27273   131254   Kein Bund für's Leben (2007)                    Comedy  2007\n",
       "27274   131256  Feuer, Eis & Dosenbier (2002)                    Comedy  2002\n",
       "27275   131258             The Pirates (2014)                 Adventure  2014\n",
       "27276   131260            Rentun Ruusu (2001)        (no genres listed)  2001\n",
       "27277   131262               Innocence (2014)  Adventure|Fantasy|Horror  2014"
      ]
     },
     "execution_count": 29,
     "metadata": {},
     "output_type": "execute_result"
    }
   ],
   "source": [
    "movie_data.tail()"
   ]
  },
  {
   "cell_type": "markdown",
   "metadata": {},
   "source": [
    "# Merge Data - average movie ratings over time\n"
   ]
  },
  {
   "cell_type": "code",
   "execution_count": 30,
   "metadata": {},
   "outputs": [
    {
     "data": {
      "text/html": [
       "<div>\n",
       "<style scoped>\n",
       "    .dataframe tbody tr th:only-of-type {\n",
       "        vertical-align: middle;\n",
       "    }\n",
       "\n",
       "    .dataframe tbody tr th {\n",
       "        vertical-align: top;\n",
       "    }\n",
       "\n",
       "    .dataframe thead th {\n",
       "        text-align: right;\n",
       "    }\n",
       "</style>\n",
       "<table border=\"1\" class=\"dataframe\">\n",
       "  <thead>\n",
       "    <tr style=\"text-align: right;\">\n",
       "      <th></th>\n",
       "      <th>movieId</th>\n",
       "      <th>rating</th>\n",
       "    </tr>\n",
       "  </thead>\n",
       "  <tbody>\n",
       "    <tr>\n",
       "      <th>26739</th>\n",
       "      <td>131254</td>\n",
       "      <td>4.0</td>\n",
       "    </tr>\n",
       "    <tr>\n",
       "      <th>26740</th>\n",
       "      <td>131256</td>\n",
       "      <td>4.0</td>\n",
       "    </tr>\n",
       "    <tr>\n",
       "      <th>26741</th>\n",
       "      <td>131258</td>\n",
       "      <td>2.5</td>\n",
       "    </tr>\n",
       "    <tr>\n",
       "      <th>26742</th>\n",
       "      <td>131260</td>\n",
       "      <td>3.0</td>\n",
       "    </tr>\n",
       "    <tr>\n",
       "      <th>26743</th>\n",
       "      <td>131262</td>\n",
       "      <td>4.0</td>\n",
       "    </tr>\n",
       "  </tbody>\n",
       "</table>\n",
       "</div>"
      ],
      "text/plain": [
       "       movieId  rating\n",
       "26739   131254     4.0\n",
       "26740   131256     4.0\n",
       "26741   131258     2.5\n",
       "26742   131260     3.0\n",
       "26743   131262     4.0"
      ]
     },
     "execution_count": 30,
     "metadata": {},
     "output_type": "execute_result"
    }
   ],
   "source": [
    "average_rating = ratings[['movieId', 'rating']].groupby('movieId', as_index=False).mean()\n",
    "average_rating.tail()"
   ]
  },
  {
   "cell_type": "code",
   "execution_count": 31,
   "metadata": {},
   "outputs": [
    {
     "data": {
      "text/html": [
       "<div>\n",
       "<style scoped>\n",
       "    .dataframe tbody tr th:only-of-type {\n",
       "        vertical-align: middle;\n",
       "    }\n",
       "\n",
       "    .dataframe tbody tr th {\n",
       "        vertical-align: top;\n",
       "    }\n",
       "\n",
       "    .dataframe thead th {\n",
       "        text-align: right;\n",
       "    }\n",
       "</style>\n",
       "<table border=\"1\" class=\"dataframe\">\n",
       "  <thead>\n",
       "    <tr style=\"text-align: right;\">\n",
       "      <th></th>\n",
       "      <th>movieId</th>\n",
       "      <th>title</th>\n",
       "      <th>genres</th>\n",
       "      <th>year</th>\n",
       "      <th>rating</th>\n",
       "    </tr>\n",
       "  </thead>\n",
       "  <tbody>\n",
       "    <tr>\n",
       "      <th>0</th>\n",
       "      <td>1</td>\n",
       "      <td>Toy Story (1995)</td>\n",
       "      <td>Adventure|Animation|Children|Comedy|Fantasy</td>\n",
       "      <td>1995</td>\n",
       "      <td>3.921240</td>\n",
       "    </tr>\n",
       "    <tr>\n",
       "      <th>1</th>\n",
       "      <td>2</td>\n",
       "      <td>Jumanji (1995)</td>\n",
       "      <td>Adventure|Children|Fantasy</td>\n",
       "      <td>1995</td>\n",
       "      <td>3.211977</td>\n",
       "    </tr>\n",
       "    <tr>\n",
       "      <th>2</th>\n",
       "      <td>3</td>\n",
       "      <td>Grumpier Old Men (1995)</td>\n",
       "      <td>Comedy|Romance</td>\n",
       "      <td>1995</td>\n",
       "      <td>3.151040</td>\n",
       "    </tr>\n",
       "    <tr>\n",
       "      <th>3</th>\n",
       "      <td>4</td>\n",
       "      <td>Waiting to Exhale (1995)</td>\n",
       "      <td>Comedy|Drama|Romance</td>\n",
       "      <td>1995</td>\n",
       "      <td>2.861393</td>\n",
       "    </tr>\n",
       "    <tr>\n",
       "      <th>4</th>\n",
       "      <td>5</td>\n",
       "      <td>Father of the Bride Part II (1995)</td>\n",
       "      <td>Comedy</td>\n",
       "      <td>1995</td>\n",
       "      <td>3.064592</td>\n",
       "    </tr>\n",
       "  </tbody>\n",
       "</table>\n",
       "</div>"
      ],
      "text/plain": [
       "   movieId                               title  \\\n",
       "0        1                    Toy Story (1995)   \n",
       "1        2                      Jumanji (1995)   \n",
       "2        3             Grumpier Old Men (1995)   \n",
       "3        4            Waiting to Exhale (1995)   \n",
       "4        5  Father of the Bride Part II (1995)   \n",
       "\n",
       "                                        genres  year    rating  \n",
       "0  Adventure|Animation|Children|Comedy|Fantasy  1995  3.921240  \n",
       "1                   Adventure|Children|Fantasy  1995  3.211977  \n",
       "2                               Comedy|Romance  1995  3.151040  \n",
       "3                         Comedy|Drama|Romance  1995  2.861393  \n",
       "4                                       Comedy  1995  3.064592  "
      ]
     },
     "execution_count": 31,
     "metadata": {},
     "output_type": "execute_result"
    }
   ],
   "source": [
    "joined = movie_data.merge(average_rating, on='movieId', how='inner')\n",
    "joined.head()"
   ]
  },
  {
   "cell_type": "code",
   "execution_count": 32,
   "metadata": {},
   "outputs": [
    {
     "data": {
      "text/html": [
       "<div>\n",
       "<style scoped>\n",
       "    .dataframe tbody tr th:only-of-type {\n",
       "        vertical-align: middle;\n",
       "    }\n",
       "\n",
       "    .dataframe tbody tr th {\n",
       "        vertical-align: top;\n",
       "    }\n",
       "\n",
       "    .dataframe thead th {\n",
       "        text-align: right;\n",
       "    }\n",
       "</style>\n",
       "<table border=\"1\" class=\"dataframe\">\n",
       "  <thead>\n",
       "    <tr style=\"text-align: right;\">\n",
       "      <th></th>\n",
       "      <th>movieId</th>\n",
       "      <th>title</th>\n",
       "      <th>genres</th>\n",
       "      <th>year</th>\n",
       "      <th>rating</th>\n",
       "    </tr>\n",
       "  </thead>\n",
       "  <tbody>\n",
       "    <tr>\n",
       "      <th>0</th>\n",
       "      <td>1</td>\n",
       "      <td>Toy Story (1995)</td>\n",
       "      <td>Adventure|Animation|Children|Comedy|Fantasy</td>\n",
       "      <td>1995</td>\n",
       "      <td>3.921240</td>\n",
       "    </tr>\n",
       "    <tr>\n",
       "      <th>1</th>\n",
       "      <td>2</td>\n",
       "      <td>Jumanji (1995)</td>\n",
       "      <td>Adventure|Children|Fantasy</td>\n",
       "      <td>1995</td>\n",
       "      <td>3.211977</td>\n",
       "    </tr>\n",
       "    <tr>\n",
       "      <th>2</th>\n",
       "      <td>3</td>\n",
       "      <td>Grumpier Old Men (1995)</td>\n",
       "      <td>Comedy|Romance</td>\n",
       "      <td>1995</td>\n",
       "      <td>3.151040</td>\n",
       "    </tr>\n",
       "    <tr>\n",
       "      <th>3</th>\n",
       "      <td>4</td>\n",
       "      <td>Waiting to Exhale (1995)</td>\n",
       "      <td>Comedy|Drama|Romance</td>\n",
       "      <td>1995</td>\n",
       "      <td>2.861393</td>\n",
       "    </tr>\n",
       "    <tr>\n",
       "      <th>4</th>\n",
       "      <td>5</td>\n",
       "      <td>Father of the Bride Part II (1995)</td>\n",
       "      <td>Comedy</td>\n",
       "      <td>1995</td>\n",
       "      <td>3.064592</td>\n",
       "    </tr>\n",
       "  </tbody>\n",
       "</table>\n",
       "</div>"
      ],
      "text/plain": [
       "   movieId                               title  \\\n",
       "0        1                    Toy Story (1995)   \n",
       "1        2                      Jumanji (1995)   \n",
       "2        3             Grumpier Old Men (1995)   \n",
       "3        4            Waiting to Exhale (1995)   \n",
       "4        5  Father of the Bride Part II (1995)   \n",
       "\n",
       "                                        genres  year    rating  \n",
       "0  Adventure|Animation|Children|Comedy|Fantasy  1995  3.921240  \n",
       "1                   Adventure|Children|Fantasy  1995  3.211977  \n",
       "2                               Comedy|Romance  1995  3.151040  \n",
       "3                         Comedy|Drama|Romance  1995  2.861393  \n",
       "4                                       Comedy  1995  3.064592  "
      ]
     },
     "execution_count": 32,
     "metadata": {},
     "output_type": "execute_result"
    }
   ],
   "source": [
    "joined.head()"
   ]
  },
  {
   "cell_type": "markdown",
   "metadata": {},
   "source": [
    "## Specify Data to be used in Twitter API request"
   ]
  },
  {
   "cell_type": "code",
   "execution_count": 33,
   "metadata": {},
   "outputs": [],
   "source": [
    "rating_mask = joined.rating  > 4\n",
    "year_mask = joined.year > '2010'"
   ]
  },
  {
   "cell_type": "code",
   "execution_count": 34,
   "metadata": {},
   "outputs": [],
   "source": [
    "final_data = joined[rating_mask & year_mask]\n",
    "final_data = final_data.reset_index().drop(columns='index')"
   ]
  },
  {
   "cell_type": "code",
   "execution_count": 35,
   "metadata": {},
   "outputs": [
    {
     "data": {
      "text/html": [
       "<div>\n",
       "<style scoped>\n",
       "    .dataframe tbody tr th:only-of-type {\n",
       "        vertical-align: middle;\n",
       "    }\n",
       "\n",
       "    .dataframe tbody tr th {\n",
       "        vertical-align: top;\n",
       "    }\n",
       "\n",
       "    .dataframe thead th {\n",
       "        text-align: right;\n",
       "    }\n",
       "</style>\n",
       "<table border=\"1\" class=\"dataframe\">\n",
       "  <thead>\n",
       "    <tr style=\"text-align: right;\">\n",
       "      <th></th>\n",
       "      <th>movieId</th>\n",
       "      <th>title</th>\n",
       "      <th>genres</th>\n",
       "      <th>year</th>\n",
       "      <th>rating</th>\n",
       "    </tr>\n",
       "  </thead>\n",
       "  <tbody>\n",
       "    <tr>\n",
       "      <th>0</th>\n",
       "      <td>91007</td>\n",
       "      <td>I Want to Be a Soldier</td>\n",
       "      <td>Drama</td>\n",
       "      <td>2011</td>\n",
       "      <td>4.500000</td>\n",
       "    </tr>\n",
       "    <tr>\n",
       "      <th>1</th>\n",
       "      <td>91529</td>\n",
       "      <td>Dark Knight Rises, The</td>\n",
       "      <td>Action|Adventure|Crime|IMAX</td>\n",
       "      <td>2012</td>\n",
       "      <td>4.000210</td>\n",
       "    </tr>\n",
       "    <tr>\n",
       "      <th>2</th>\n",
       "      <td>92259</td>\n",
       "      <td>Intouchables</td>\n",
       "      <td>Comedy|Drama</td>\n",
       "      <td>2011</td>\n",
       "      <td>4.132396</td>\n",
       "    </tr>\n",
       "    <tr>\n",
       "      <th>3</th>\n",
       "      <td>92535</td>\n",
       "      <td>Louis C.K.: Live at the Beacon Theater</td>\n",
       "      <td>Comedy</td>\n",
       "      <td>2011</td>\n",
       "      <td>4.062349</td>\n",
       "    </tr>\n",
       "    <tr>\n",
       "      <th>4</th>\n",
       "      <td>94466</td>\n",
       "      <td>Black Mirror</td>\n",
       "      <td>Drama|Sci-Fi</td>\n",
       "      <td>2011</td>\n",
       "      <td>4.182990</td>\n",
       "    </tr>\n",
       "    <tr>\n",
       "      <th>...</th>\n",
       "      <td>...</td>\n",
       "      <td>...</td>\n",
       "      <td>...</td>\n",
       "      <td>...</td>\n",
       "      <td>...</td>\n",
       "    </tr>\n",
       "    <tr>\n",
       "      <th>133</th>\n",
       "      <td>130219</td>\n",
       "      <td>The Dark Knight</td>\n",
       "      <td>Action|Crime|Drama|Thriller</td>\n",
       "      <td>2011</td>\n",
       "      <td>4.500000</td>\n",
       "    </tr>\n",
       "    <tr>\n",
       "      <th>134</th>\n",
       "      <td>130294</td>\n",
       "      <td>Drevo</td>\n",
       "      <td>Drama</td>\n",
       "      <td>2014</td>\n",
       "      <td>4.500000</td>\n",
       "    </tr>\n",
       "    <tr>\n",
       "      <th>135</th>\n",
       "      <td>130374</td>\n",
       "      <td>India's Daughter</td>\n",
       "      <td>Documentary</td>\n",
       "      <td>2015</td>\n",
       "      <td>4.500000</td>\n",
       "    </tr>\n",
       "    <tr>\n",
       "      <th>136</th>\n",
       "      <td>130524</td>\n",
       "      <td>Flying Home</td>\n",
       "      <td>Romance</td>\n",
       "      <td>2014</td>\n",
       "      <td>4.500000</td>\n",
       "    </tr>\n",
       "    <tr>\n",
       "      <th>137</th>\n",
       "      <td>131176</td>\n",
       "      <td>A Second Chance</td>\n",
       "      <td>Drama</td>\n",
       "      <td>2014</td>\n",
       "      <td>4.500000</td>\n",
       "    </tr>\n",
       "  </tbody>\n",
       "</table>\n",
       "<p>138 rows × 5 columns</p>\n",
       "</div>"
      ],
      "text/plain": [
       "     movieId                                    title  \\\n",
       "0      91007                  I Want to Be a Soldier    \n",
       "1      91529                  Dark Knight Rises, The    \n",
       "2      92259                            Intouchables    \n",
       "3      92535  Louis C.K.: Live at the Beacon Theater    \n",
       "4      94466                            Black Mirror    \n",
       "..       ...                                      ...   \n",
       "133   130219                         The Dark Knight    \n",
       "134   130294                                   Drevo    \n",
       "135   130374                        India's Daughter    \n",
       "136   130524                             Flying Home    \n",
       "137   131176                         A Second Chance    \n",
       "\n",
       "                          genres  year    rating  \n",
       "0                          Drama  2011  4.500000  \n",
       "1    Action|Adventure|Crime|IMAX  2012  4.000210  \n",
       "2                   Comedy|Drama  2011  4.132396  \n",
       "3                         Comedy  2011  4.062349  \n",
       "4                   Drama|Sci-Fi  2011  4.182990  \n",
       "..                           ...   ...       ...  \n",
       "133  Action|Crime|Drama|Thriller  2011  4.500000  \n",
       "134                        Drama  2014  4.500000  \n",
       "135                  Documentary  2015  4.500000  \n",
       "136                      Romance  2014  4.500000  \n",
       "137                        Drama  2014  4.500000  \n",
       "\n",
       "[138 rows x 5 columns]"
      ]
     },
     "execution_count": 35,
     "metadata": {},
     "output_type": "execute_result"
    }
   ],
   "source": [
    "import numpy as np\n",
    "titles = np.array(final_data.title)\n",
    "for index, title in np.ndenumerate(titles):\n",
    "    final_data.loc[index, 'title'] = title.split(\"(\")[0]\n",
    "final_data\n"
   ]
  },
  {
   "cell_type": "code",
   "execution_count": 36,
   "metadata": {},
   "outputs": [],
   "source": [
    "import numpy as np\n",
    "final_data = final_data.drop(final_data[final_data.title.str.contains(\", The\")].index, inplace = False)\n",
    "final_data = final_data.reset_index().drop(columns='index')\n",
    "titles = np.array(final_data.title)\n",
    "for index, title in np.ndenumerate(titles):\n",
    "    final_data.loc[index, 'hashtags'] = \"#\" +  title.replace(\" \", \"\")"
   ]
  },
  {
   "cell_type": "code",
   "execution_count": 37,
   "metadata": {},
   "outputs": [
    {
     "data": {
      "text/html": [
       "<div>\n",
       "<style scoped>\n",
       "    .dataframe tbody tr th:only-of-type {\n",
       "        vertical-align: middle;\n",
       "    }\n",
       "\n",
       "    .dataframe tbody tr th {\n",
       "        vertical-align: top;\n",
       "    }\n",
       "\n",
       "    .dataframe thead th {\n",
       "        text-align: right;\n",
       "    }\n",
       "</style>\n",
       "<table border=\"1\" class=\"dataframe\">\n",
       "  <thead>\n",
       "    <tr style=\"text-align: right;\">\n",
       "      <th></th>\n",
       "      <th>movieId</th>\n",
       "      <th>title</th>\n",
       "      <th>genres</th>\n",
       "      <th>year</th>\n",
       "      <th>rating</th>\n",
       "      <th>hashtags</th>\n",
       "    </tr>\n",
       "  </thead>\n",
       "  <tbody>\n",
       "    <tr>\n",
       "      <th>0</th>\n",
       "      <td>91007</td>\n",
       "      <td>I Want to Be a Soldier</td>\n",
       "      <td>Drama</td>\n",
       "      <td>2011</td>\n",
       "      <td>4.500000</td>\n",
       "      <td>#IWanttoBeaSoldier</td>\n",
       "    </tr>\n",
       "    <tr>\n",
       "      <th>1</th>\n",
       "      <td>92259</td>\n",
       "      <td>Intouchables</td>\n",
       "      <td>Comedy|Drama</td>\n",
       "      <td>2011</td>\n",
       "      <td>4.132396</td>\n",
       "      <td>#Intouchables</td>\n",
       "    </tr>\n",
       "    <tr>\n",
       "      <th>2</th>\n",
       "      <td>92535</td>\n",
       "      <td>Louis C.K.: Live at the Beacon Theater</td>\n",
       "      <td>Comedy</td>\n",
       "      <td>2011</td>\n",
       "      <td>4.062349</td>\n",
       "      <td>#LouisC.K.:LiveattheBeaconTheater</td>\n",
       "    </tr>\n",
       "    <tr>\n",
       "      <th>3</th>\n",
       "      <td>94466</td>\n",
       "      <td>Black Mirror</td>\n",
       "      <td>Drama|Sci-Fi</td>\n",
       "      <td>2011</td>\n",
       "      <td>4.182990</td>\n",
       "      <td>#BlackMirror</td>\n",
       "    </tr>\n",
       "    <tr>\n",
       "      <th>4</th>\n",
       "      <td>96606</td>\n",
       "      <td>Samsara</td>\n",
       "      <td>Documentary</td>\n",
       "      <td>2011</td>\n",
       "      <td>4.006944</td>\n",
       "      <td>#Samsara</td>\n",
       "    </tr>\n",
       "    <tr>\n",
       "      <th>...</th>\n",
       "      <td>...</td>\n",
       "      <td>...</td>\n",
       "      <td>...</td>\n",
       "      <td>...</td>\n",
       "      <td>...</td>\n",
       "      <td>...</td>\n",
       "    </tr>\n",
       "    <tr>\n",
       "      <th>117</th>\n",
       "      <td>130219</td>\n",
       "      <td>The Dark Knight</td>\n",
       "      <td>Action|Crime|Drama|Thriller</td>\n",
       "      <td>2011</td>\n",
       "      <td>4.500000</td>\n",
       "      <td>#TheDarkKnight</td>\n",
       "    </tr>\n",
       "    <tr>\n",
       "      <th>118</th>\n",
       "      <td>130294</td>\n",
       "      <td>Drevo</td>\n",
       "      <td>Drama</td>\n",
       "      <td>2014</td>\n",
       "      <td>4.500000</td>\n",
       "      <td>#Drevo</td>\n",
       "    </tr>\n",
       "    <tr>\n",
       "      <th>119</th>\n",
       "      <td>130374</td>\n",
       "      <td>India's Daughter</td>\n",
       "      <td>Documentary</td>\n",
       "      <td>2015</td>\n",
       "      <td>4.500000</td>\n",
       "      <td>#India'sDaughter</td>\n",
       "    </tr>\n",
       "    <tr>\n",
       "      <th>120</th>\n",
       "      <td>130524</td>\n",
       "      <td>Flying Home</td>\n",
       "      <td>Romance</td>\n",
       "      <td>2014</td>\n",
       "      <td>4.500000</td>\n",
       "      <td>#FlyingHome</td>\n",
       "    </tr>\n",
       "    <tr>\n",
       "      <th>121</th>\n",
       "      <td>131176</td>\n",
       "      <td>A Second Chance</td>\n",
       "      <td>Drama</td>\n",
       "      <td>2014</td>\n",
       "      <td>4.500000</td>\n",
       "      <td>#ASecondChance</td>\n",
       "    </tr>\n",
       "  </tbody>\n",
       "</table>\n",
       "<p>122 rows × 6 columns</p>\n",
       "</div>"
      ],
      "text/plain": [
       "     movieId                                    title  \\\n",
       "0      91007                  I Want to Be a Soldier    \n",
       "1      92259                            Intouchables    \n",
       "2      92535  Louis C.K.: Live at the Beacon Theater    \n",
       "3      94466                            Black Mirror    \n",
       "4      96606                                 Samsara    \n",
       "..       ...                                      ...   \n",
       "117   130219                         The Dark Knight    \n",
       "118   130294                                   Drevo    \n",
       "119   130374                        India's Daughter    \n",
       "120   130524                             Flying Home    \n",
       "121   131176                         A Second Chance    \n",
       "\n",
       "                          genres  year    rating  \\\n",
       "0                          Drama  2011  4.500000   \n",
       "1                   Comedy|Drama  2011  4.132396   \n",
       "2                         Comedy  2011  4.062349   \n",
       "3                   Drama|Sci-Fi  2011  4.182990   \n",
       "4                    Documentary  2011  4.006944   \n",
       "..                           ...   ...       ...   \n",
       "117  Action|Crime|Drama|Thriller  2011  4.500000   \n",
       "118                        Drama  2014  4.500000   \n",
       "119                  Documentary  2015  4.500000   \n",
       "120                      Romance  2014  4.500000   \n",
       "121                        Drama  2014  4.500000   \n",
       "\n",
       "                              hashtags  \n",
       "0                   #IWanttoBeaSoldier  \n",
       "1                        #Intouchables  \n",
       "2    #LouisC.K.:LiveattheBeaconTheater  \n",
       "3                         #BlackMirror  \n",
       "4                             #Samsara  \n",
       "..                                 ...  \n",
       "117                     #TheDarkKnight  \n",
       "118                             #Drevo  \n",
       "119                   #India'sDaughter  \n",
       "120                        #FlyingHome  \n",
       "121                     #ASecondChance  \n",
       "\n",
       "[122 rows x 6 columns]"
      ]
     },
     "execution_count": 37,
     "metadata": {},
     "output_type": "execute_result"
    }
   ],
   "source": [
    "final_data"
   ]
  },
  {
   "cell_type": "markdown",
   "metadata": {},
   "source": [
    "# Twitter API access"
   ]
  },
  {
   "cell_type": "code",
   "execution_count": 40,
   "metadata": {},
   "outputs": [],
   "source": [
    "# Dependencies\n",
    "\n",
    "import os\n",
    "import tweepy as tw\n",
    "import json\n",
    "from pprint import pprint\n",
    "import config"
   ]
  },
  {
   "cell_type": "code",
   "execution_count": 41,
   "metadata": {},
   "outputs": [],
   "source": [
    "auth = tw.OAuthHandler(config.consumer_key, config.consumer_secret)\n",
    "auth.set_access_token(config.access_token, config.access_token_secret)\n",
    "api = tw.API(auth, wait_on_rate_limit=True)"
   ]
  },
  {
   "cell_type": "code",
   "execution_count": 42,
   "metadata": {},
   "outputs": [],
   "source": [
    "# if not os.path.exists('secret_twitter_credentials.pkl'):\n",
    "#     Twitter={}\n",
    "#     Twitter['Consumer Key'] = config.consumer_key\n",
    "#     Twitter['Consumer Secret'] = config.consumer_secret\n",
    "#     Twitter['Access Token'] = config.access_token\n",
    "#     Twitter['Access Token Secret'] = config.access_token_secret\n",
    "#     with open('secret_twitter_credentials.pkl','wb') as f:\n",
    "#         pickle.dump(Twitter, f)\n",
    "# else:\n",
    "#     Twitter=pickle.load(open('secret_twitter_credentials.pkl','rb'))"
   ]
  },
  {
   "cell_type": "code",
   "execution_count": 43,
   "metadata": {},
   "outputs": [],
   "source": [
    "# import twitter\n",
    "\n",
    "# auth = twitter.oauth.OAuth(Twitter['Access Token'],\n",
    "#                            Twitter['Access Token Secret'],\n",
    "#                            Twitter['Consumer Key'],\n",
    "#                            Twitter['Consumer Secret'])\n",
    "\n",
    "# twitter_api = twitter.Twitter(auth=auth)"
   ]
  },
  {
   "cell_type": "markdown",
   "metadata": {},
   "source": [
    "### Where on Earth ID number.. this helps to find location based on ID\n",
    "\n",
    "This was not needed since we found different way to pull data from twitter but still nice to have for future references\n"
   ]
  },
  {
   "cell_type": "code",
   "execution_count": 44,
   "metadata": {},
   "outputs": [],
   "source": [
    "# WORLD_WOE_ID = 1\n",
    "# US_WOE_ID = 23424977\n",
    "# LOCAL_WOE_ID=2357024 # Atlanta WOEID"
   ]
  },
  {
   "cell_type": "code",
   "execution_count": 46,
   "metadata": {},
   "outputs": [],
   "source": [
    "# world_trends = twitter_api.trends.place(_id=WORLD_WOE_ID)\n",
    "# us_trends = twitter_api.trends.place(_id=US_WOE_ID)\n",
    "# local_trends = twitter_api.trends.place(_id=LOCAL_WOE_ID)"
   ]
  },
  {
   "cell_type": "code",
   "execution_count": 47,
   "metadata": {},
   "outputs": [],
   "source": [
    "def twitter_pull(hash):\n",
    "    users_and_text = {}\n",
    "    tweet_list = ''\n",
    "    tweets = tw.Cursor(api.search,\n",
    "        q=hash,\n",
    "            lang=\"en\").items(1)\n",
    "    for tweet in tweets:\n",
    "        users_and_text[\"hashtag\"] = hash\n",
    "        users_and_text[\"user_name\"] = tweet.user.screen_name\n",
    "        users_and_text[\"tweet\"] = tweet.text\n",
    "        users_and_text[\"location\"] = tweet.user.location\n",
    "#     users_and_text = [[tweet.user.screen_name, tweet.text, tweet.user.location] for tweet in tweets]\n",
    "    return users_and_text\n",
    "    "
   ]
  },
  {
   "cell_type": "code",
   "execution_count": 48,
   "metadata": {},
   "outputs": [],
   "source": [
    "twits = []\n",
    "for hash in final_data.hashtags:\n",
    "    twits.append(twitter_pull(hash))"
   ]
  },
  {
   "cell_type": "code",
   "execution_count": 49,
   "metadata": {},
   "outputs": [
    {
     "name": "stdout",
     "output_type": "stream",
     "text": [
      "{}\n",
      "{'hashtag': '#Intouchables', 'user_name': 'regos_istvan', 'tweet': 'Thinking about ‘Parasite’ I couldn’t help but wonder why ‘Intouchables’ or ‘Amélie’ didn’t win Best Picture, Best A… https://t.co/bjB3W33Ere', 'location': 'Budapest, Hungary'}\n",
      "{}\n",
      "{'hashtag': '#BlackMirror', 'user_name': 'junheefairy', 'tweet': \"I've just watched episode S01E02 of Black Mirror! #BlackMirror #tvtime https://t.co/EL7KMUlkX6 https://t.co/z9guDVsqsU\", 'location': 'he/him '}\n",
      "{'hashtag': '#Samsara', 'user_name': 'Turyamusic', 'tweet': 'Thank you @smh for this kind review of #Samsara: https://t.co/z2P3PVxJgC', 'location': 'London'}\n",
      "{}\n",
      "{'hashtag': '#TwoRabbits', 'user_name': 'cbnetwork19', 'tweet': 'Glendale Running 10.31 miles training run this morning... https://t.co/ogtkODnhK9\\n#teamrce #tenmiles #tworabbits', 'location': 'Arizona, USA'}\n",
      "{'hashtag': '#Guilty', 'user_name': 'rameshlaus', 'tweet': 'RT @LetsOTT: #Guilty Review: Has A Promise Which Is Not Fully Realised \\n\\nLetsOTT Rating: 2/5\\n\\nhttps://t.co/zPAnGly6Xz', 'location': 'Chennai, India'}\n",
      "{}\n",
      "{}\n",
      "{'hashtag': '#Starrystarrynight', 'user_name': 'ktwdwdwd', 'tweet': 'Star shower.\\n.\\n10sec, F3.5, ISO1250, 12mm, Livecomp.\\nhttps://t.co/tsNTlP9kEa\\n.\\n.\\n#igersjp #smugmug #livecomposite… https://t.co/SEba9k9DiT', 'location': '日本 京都'}\n",
      "{}\n",
      "{'hashtag': '#DjangoUnchained', 'user_name': 'TomUSMC1984', 'tweet': '@succubuskittyx @em0vere WTF?! Were u an xtra in #DjangoUnchained', 'location': 'Braintree, MA'}\n",
      "{'hashtag': '#SunKissed', 'user_name': 'cash_trillo', 'tweet': 'One beach at a time. 🏖\\n.\\n.\\n.\\n.\\n.\\n.\\n.\\n.\\n.\\n.\\n#baskinginthesun #sunkissed #beach #beachbody #chill #happyplace… https://t.co/rY33gBCy1o', 'location': 'National Capital Region'}\n",
      "{'hashtag': '#K-11', 'user_name': 'PathogenScribe', 'tweet': 'RT @Casillic: The last remaining Air Force Minuteman II intercontinental ballistic missile is hoisted out of its launch tube at launch faci…', 'location': ''}\n",
      "{'hashtag': '#SimpleLife,A', 'user_name': 'WorldHealthScot', 'tweet': 'RT @WorldHealthScot: 8 Steps Towards A More Simpler Healthier Lifestyle\\n\\nYou want a more simpler healthier lifestyle but don’t know where t…', 'location': 'Scotland, United Kingdom'}\n",
      "{}\n",
      "{'hashtag': '#DayIsDone', 'user_name': 'Smbabijes', 'tweet': 'Dear Lord, grant us a peaceful night and a graceful death. Amen.\\n\\n#dayisdone #praisethelord #weekends #thankful… https://t.co/4LKr6ffQUe', 'location': 'Philippines'}\n",
      "{'hashtag': '#FrozenPlanet', 'user_name': 'FROGGIE1984', 'tweet': 'Weekend filled with david attenborough. Hell yes #blueplanet #planetearth #frozenplanet https://t.co/eN2DxaL7jK', 'location': 'ABERDEEN SCOTLAND'}\n",
      "{}\n",
      "{}\n",
      "{'hashtag': '#Smitty', 'user_name': 'LouatTheState', 'tweet': 'RT @wjkeenanraiders: @LouatTheState @keenanhoops A valued member of Raider Nation 💪🏽 #Smitty', 'location': 'ÜT: 34.197727,-79.868512'}\n",
      "{'hashtag': '#Shepard&Dark', 'user_name': 'DirectedbyWomen', 'tweet': \"@musicboxfilms @musicboxdirect I see you also have Maria Sole Tognazzi's A Five Star Life. Another underappreciated… https://t.co/u6IougvZSQ\", 'location': 'EVERYWHERE'}\n",
      "{'hashtag': '#AmericanWinter', 'user_name': 'laloduartef', 'tweet': 'Protect the sea, take care of the sea. #seapatrol #sea #pacificocean #americanwinter @ San Diego, California https://t.co/AgDWMsm5Iq', 'location': 'Santiago, Chile'}\n",
      "{}\n",
      "{'hashtag': '#HolidaysbytheSea', 'user_name': '6Exchange', 'tweet': 'Amazing day last Saturday at Waking the Giant at Fort Burgoyne, Dover. Such talented potters &amp; craft people… https://t.co/QabeEwbkJB', 'location': 'Deal, England'}\n",
      "{}\n",
      "{'hashtag': '#OnlytheYoung', 'user_name': 'k_annmarchanty', 'tweet': 'Just finished watching #MissAmericana wow! You are amazing @taylorswift13 #onlytheyoung #youretheonlyoneofyou #respect', 'location': 'Alberta'}\n",
      "{}\n",
      "{}\n",
      "{}\n",
      "{}\n",
      "{}\n",
      "{}\n",
      "{}\n",
      "{'hashtag': '#B-Side', 'user_name': 'Blakscorpion3', 'tweet': 'And we have the B side of the 1st title fight of the night J J #UFC248noCombate', 'location': 'Wellingborough'}\n",
      "{'hashtag': '#OnlyDaughter', 'user_name': 'rivenbelle', 'tweet': 'On days when I need comfort, I wished I had an older sister. Big brothers are just cruel. #youngestchild… https://t.co/57gzc2GEWU', 'location': '☆San Diego, CA☆ San Jose, CA☆'}\n",
      "{'hashtag': '#Mía', 'user_name': 'PlaneSpotIsCool', 'tweet': 'RT @EliteBrandsCo: “Touch and Go” 📸 #EBCo\\n\\n#PlaneSpotting #PrivateJets #PrivateJetLife #AviationDaily #AviationPhotography #AviationMarketi…', 'location': 'Worldwide'}\n",
      "{}\n",
      "{}\n",
      "{}\n",
      "{}\n",
      "{}\n",
      "{}\n",
      "{}\n",
      "{}\n",
      "{}\n",
      "{}\n",
      "{'hashtag': '#Interstellar', 'user_name': 'WildPersonCloud', 'tweet': 'RT @RustyBigTime: #paperback #paperbackblandly #blandly @AmazngBooks \\n\\npulp paperback science fiction\\n\\nhttps://t.co/1iuvOaz61G\\n\\ninterstella…', 'location': 'Alpha Centauri, NY'}\n",
      "{'hashtag': '#EverybodyStreet', 'user_name': 'takatoshikun3', 'tweet': '3/7   New York。\\n.\\n#streetsgrammer #best_streetview #streetdreamsmag #rsa_streetview #street_photo_club… https://t.co/i1AKKLJymf', 'location': 'New York, USA'}\n",
      "{'hashtag': '#InquireWithin', 'user_name': 'harlanvaughn', 'tweet': '🎬🍿 Now seeking movie buddies in #Dallas because I just got my brand new @drafthouse Season Pass!!! Who wants to joi… https://t.co/Bm7u8BHDY7', 'location': 'Dallas, TX'}\n",
      "{}\n",
      "{'hashtag': '#alaskaLand', 'user_name': 'KCN_Worldwide', 'tweet': 'Unimproved 0.62 acre building lot.\\n\\nTo know more call 907-373-3575 or email us at Worldwide@TheKristanColeNetwork.c… https://t.co/yL7tYSAu85', 'location': 'Wasilla, AK'}\n",
      "{'hashtag': '#MemorialDay', 'user_name': 'DanceQueenNY', 'tweet': 'RT @Randbreloaded: Your #4thofJuly in NYC will never be the same, grab your tickets today for  \"Street Chic Generation Bridge Summer White…', 'location': 'New York, New York'}\n",
      "{'hashtag': '#Neverland', 'user_name': 'Miguel_KDA', 'tweet': \"RT @duckie_le: Soyeon evolution line-up from 2016 to 2020! Start from being a trainee in a survival show, now she's one of the top artist i…\", 'location': ''}\n",
      "{}\n",
      "{'hashtag': '#IBelong', 'user_name': 'JadezweniJ', 'tweet': 'RT @RUCC_PE: 23 Lindsay Road\\nSidwell\\nPort Elizabeth \\n\\nDon’t forget to take great pictures 📸 with your friends and family. Check-In “@RUCC P…', 'location': ''}\n",
      "{'hashtag': '#Honey', 'user_name': 'ZsaMom', 'tweet': 'RT @NaturalNewsHR: Manuka honey found to eliminate deadly drug-resistant bacteria in cystic fibrosis (CF) infections. https://t.co/tJN7ZFtW…', 'location': ''}\n",
      "{'hashtag': '#Whiplash', 'user_name': 'ace_bande', 'tweet': 'Andrew Neiman and Terrence Fletcher’s opening scene in #Whiplash.\\n\\nCaptures the dynamic for the rest of the movie a… https://t.co/z3OGBDdHqt', 'location': 'Republic of the Philippines'}\n",
      "{}\n",
      "{}\n",
      "{'hashtag': '#WhenIWalk', 'user_name': 'POVdocs', 'tweet': '\"I understand you\\'re trying to help, but we do have our canes, and we got places to go!\" One of the most common ass… https://t.co/m5kaPzJOKu', 'location': 'Brooklyn, NY, USA'}\n",
      "{'hashtag': '#ZeroMotivation', 'user_name': 'AishwaryaKaple', 'tweet': \"When your assignment that's due right before #SpringBreak won't find its way to the finish line.\\n#gradschool… https://t.co/B3KPA5mNH0\", 'location': 'Philadelphia/Mumbai/Kashmir'}\n",
      "{}\n",
      "{}\n",
      "{}\n",
      "{'hashtag': '#1971', 'user_name': 'SantiagoTello13', 'tweet': \"RT @newbeverly: Hal Ashby's cult classic in 35mm! HAROLD AND MAUDE (1971) plays tonight (Saturday) at midnight. https://t.co/e01ygpIftL\", 'location': 'Por ahi'}\n",
      "{'hashtag': '#IloIlo', 'user_name': 'Demasseurr', 'tweet': '03-08-20 as of 10:40AM\\n\\n\"Be happy. Not because everything is good but because you can see the good side of everythi… https://t.co/dWWmD2VW2u', 'location': 'Iloilo City, Western Visayas'}\n",
      "{}\n",
      "{'hashtag': '#HardSun', 'user_name': 'crazylelula', 'tweet': 'The only way I have managed to cope with #lineofduty not being on till later this year is that #hardsun is on', 'location': 'Rushden, England'}\n",
      "{}\n",
      "{}\n",
      "{'hashtag': '#TheGuardians', 'user_name': 'achalius', 'tweet': 'he was dying and the only thing that came into his mind is their church talk and her tears. ─\\xa0 the first thing she… https://t.co/5cDmzzCIf7', 'location': ''}\n",
      "{}\n",
      "{}\n",
      "{'hashtag': '#FreeFall', 'user_name': 'KimChemPoet', 'tweet': \"It's finally out and I'm in love!!!  #freefall @johnnybalik https://t.co/wRrzWemtWf\", 'location': 'Pittsburgh, PA'}\n",
      "{}\n",
      "{'hashtag': '#TheGreen', 'user_name': 'NancyDa53389573', 'tweet': 'RT @seandonnellan91: It’s coming home🔵\\U0001f7e1 #TheGreen #CornuiMhuri', 'location': 'Your dreams'}\n",
      "{'hashtag': '#Aashiqui2', 'user_name': 'Vicky_Nimavat', 'tweet': 'RT @Sanddhya11: This is his original work.. that should be respected.. #tumhiho #aashiqui2 \\n@Mithoon11', 'location': 'Bhavnagar,Gujarat'}\n",
      "{}\n",
      "{}\n",
      "{'hashtag': '#Watermark', 'user_name': 'tech_NICOLE', 'tweet': 'Stoked to find this book ‘Invisible Women’ from @alexza after a great talk with her + @VarshaKanwar at #Watermark a… https://t.co/DDGOfZLvzV', 'location': 'Michigan, USA'}\n",
      "{}\n",
      "{}\n",
      "{}\n",
      "{'hashtag': '#1987', 'user_name': 'TrumpWolverine', 'tweet': \"RT @bs_muse: @scotty_kiker Awesome. I first played Mario Bros. on the Atari 2600. I was in Erie, PA at a motel in 1987 or '88 and they had…\", 'location': ''}\n",
      "{'hashtag': '#TheMissing', 'user_name': 'ByMireya', 'tweet': 'RT @Swery65: ANNOUNCED RELEASE DATE : \\n\\n10th Oct 2018 (PST)\\n\\n\"The MISSING: J.J. Macfield and the Island of Memories\"\\nComing so soon!!\\n@ArcS…', 'location': 'Mulholland Drive'}\n",
      "{'hashtag': '#Doggiewoggiez!Poochiewoochiez!', 'user_name': 'amy_m_vaughn', 'tweet': 'Weird movies I watched this week\\n\\nInstitute Benjamenta, or This Dream People Call Human Life (1995)\\nBeasts of the S… https://t.co/f9ALrzG4GE', 'location': 'Tucson, AZ'}\n",
      "{}\n",
      "{'hashtag': '#Drishyam', 'user_name': 'Adarsh71711190', 'tweet': 'All Time Top 5 WW Grossers\\n\\n1. #Pulimurugan \\n2. #Lucifer \\n3. #Premam \\n4. #KayamkulamKochunni\\n5. #Drishyam… https://t.co/YdM7vkbq9h', 'location': 'Alappuzha'}\n",
      "{}\n",
      "{'hashtag': '#NaturalSelection', 'user_name': 'debbishdotcom', 'tweet': '@LibsInAmerica Tempted to say something about #naturalselection but that would be nasty...', 'location': 'Hervey Bay, (Qld) Australia'}\n",
      "{}\n",
      "{}\n",
      "{}\n",
      "{'hashtag': '#McCullin', 'user_name': 'KingsBruton', 'tweet': 'RT @DolphinProd: Fascinating to watch and learn about the often nightmarish life of Don McCullin. Such beautiful photos of some truly horri…', 'location': 'Bruton, England'}\n",
      "{}\n",
      "{'hashtag': '#PrinttheLegend', 'user_name': 'LisaMartino18', 'tweet': 'RT @steelers1288: @LisaMartino18 @POLIV411 @Kokomoschmoe @TheSportsGuy212 Only legend and lore of their respective ancestors having crossed…', 'location': 'City of Fallen Angels '}\n",
      "{'hashtag': '#BurningBlue', 'user_name': 'BreadPit4', 'tweet': 'RT @GayEssential: Despite its controversial topic, the film is very cautious and reserved https://t.co/q1C5GDVQ37 #BurningBlue @TheTrentFor…', 'location': ''}\n",
      "{}\n",
      "{}\n",
      "{}\n",
      "{'hashtag': '#Mother,ILoveYou', 'user_name': 'yasofts', 'tweet': \"Dear Mother, \\n\\nI love you. \\n\\nEven though we fight\\n\\nEven though we disagree \\n\\nEven if you said you didn't like me\\n\\nI… https://t.co/u0QJRKrQOl\", 'location': 'in her arms'}\n",
      "{'hashtag': '#People,Places,Things', 'user_name': 'tj_smith0276', 'tweet': \"I'm #determined in #2020 to be the #best that I can be and If that is not good enough for some #people oh well. Don… https://t.co/SRBHSoYrhF\", 'location': 'Columbus, Ohio'}\n",
      "{}\n",
      "{}\n",
      "{}\n",
      "{'hashtag': '#Rent-a-Cat', 'user_name': 'awais_chaman', 'tweet': 'pakaistan bhr mein kisi bhe waqat https://t.co/IamNrBX7uy ky  plate form sy ticket or rent a cat karwa sakty hain… https://t.co/HiTGtsocgO', 'location': 'Karachi, Pakistan'}\n",
      "{'hashtag': '#TheGoldenCage', 'user_name': 'vdbergechris', 'tweet': 'RT @RainbowResGroup: The golden cage syndrome: the apparently perfect life… Do you want to know if your job is a golden cage?\\nRead our arti…', 'location': 'Belgium'}\n",
      "{}\n",
      "{}\n",
      "{'hashtag': '#AShortHistoryofDecay', 'user_name': 'v13media', 'tweet': '#AShortHistoryOfDecay is an intense, bold, and diverse debut. And it’s firmly establishing San Fran’s #hardcore cre… https://t.co/spaDdmGVre', 'location': 'Toronto, ON, Canada'}\n",
      "{'hashtag': '#Ugly', 'user_name': 'GingaMt', 'tweet': 'Ha ha. @EricTrump , like his father, is a #joke . #ugly #TrumpCrimeFamily https://t.co/BdFRgvf6dt', 'location': ''}\n",
      "{}\n",
      "{}\n",
      "{}\n",
      "{'hashtag': '#StandbyMeDoraemon', 'user_name': 'tm4ish', 'tweet': 'me while I am watching #StandByMeDoraemon https://t.co/DK7W60PK5f', 'location': 'Leipzig, Germany'}\n",
      "{'hashtag': '#TheDarkKnight', 'user_name': 'AdmaAnime', 'tweet': \"RT @Spired_Cake: Batman FanArt, the cape crusader and world great detective, who's a fan of this great hero? #Batman #THEDARKKNIGHT #dccomi…\", 'location': 'Oxnard, CA'}\n",
      "{}\n",
      "{}\n",
      "{'hashtag': '#FlyingHome', 'user_name': 'vanHartenPeter', 'tweet': 'Enjoy Aberdeenshire; go hiking! #myKLMmoment #travelplans #destinations #klmdestinations #dream #bluefamily… https://t.co/bgyTKApaZi', 'location': ''}\n",
      "{'hashtag': '#ASecondChance', 'user_name': 'aleamga', 'tweet': 'RT @CradlesTGS: i had a weird idea, i told to myself: What if Blixer is in an outffit like the heroes of my AU :u?\\n\\nPOOF! XD\\n\\n#JSAB #ASecon…', 'location': ''}\n"
     ]
    }
   ],
   "source": [
    "for tweet in twits:\n",
    "    print(tweet)"
   ]
  },
  {
   "cell_type": "code",
   "execution_count": null,
   "metadata": {},
   "outputs": [],
   "source": [
    "hashtags"
   ]
  },
  {
   "cell_type": "code",
   "execution_count": null,
   "metadata": {},
   "outputs": [],
   "source": []
  }
 ],
 "metadata": {
  "kernelspec": {
   "display_name": "Python [conda env:python37]",
   "language": "python",
   "name": "conda-env-python37-py"
  },
  "language_info": {
   "codemirror_mode": {
    "name": "ipython",
    "version": 3
   },
   "file_extension": ".py",
   "mimetype": "text/x-python",
   "name": "python",
   "nbconvert_exporter": "python",
   "pygments_lexer": "ipython3",
   "version": "3.7.5"
  }
 },
 "nbformat": 4,
 "nbformat_minor": 2
}
